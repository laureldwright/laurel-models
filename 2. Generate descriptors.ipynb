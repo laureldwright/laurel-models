{
 "cells": [
  {
   "cell_type": "markdown",
   "id": "9dc6aa08",
   "metadata": {},
   "source": [
    "# Generate descriptors\n",
    "\n",
    "This notebook generates 2D chemical descriptors using RDKIT. The descriptors can be used as features for building a prediction model. \n",
    "\n",
    "See notebook `1. Load data and EDA` for information about the dataset. \n",
    "\n",
    "**Generating the environment**\n",
    "\n",
    "`rdkit` does not have PyPl package for pip installation. I was not able to create an environment with brew-installed RDKIT, so I made a miniconda environment. See the README for instructions. \n",
    "\n",
    "**Credit**\n",
    "\n",
    "Used the following blog post for some guidance on generating descriptors from SMILES: https://drzinph.com/rdkit_2d-descriptors-in-python-part-4/"
   ]
  },
  {
   "cell_type": "code",
   "execution_count": 17,
   "id": "49202a96",
   "metadata": {},
   "outputs": [],
   "source": [
    "from rdkit import Chem\n",
    "from rdkit.Chem import Descriptors \n",
    "from rdkit.ML.Descriptors import MoleculeDescriptors\n",
    "import pandas as pd\n",
    "import os"
   ]
  },
  {
   "cell_type": "code",
   "execution_count": 4,
   "id": "97935e92",
   "metadata": {},
   "outputs": [],
   "source": [
    "data_raw = pd.read_csv(\"data/antibiotics/assay.1106.0023.tsv\", sep=\"\\t\")"
   ]
  },
  {
   "cell_type": "code",
   "execution_count": 18,
   "id": "7a65fcbf",
   "metadata": {},
   "outputs": [
    {
     "data": {
      "text/plain": [
       "208"
      ]
     },
     "execution_count": 18,
     "metadata": {},
     "output_type": "execute_result"
    }
   ],
   "source": [
    "len([x[0] for x in Descriptors._descList])"
   ]
  },
  {
   "cell_type": "code",
   "execution_count": 19,
   "id": "9b9595a8",
   "metadata": {},
   "outputs": [],
   "source": [
    "calc = MoleculeDescriptors.MolecularDescriptorCalculator([x[0] for x in Descriptors._descList])\n",
    "header = calc.GetDescriptorNames()"
   ]
  },
  {
   "cell_type": "code",
   "execution_count": 21,
   "id": "ee7b29c7",
   "metadata": {},
   "outputs": [
    {
     "data": {
      "text/plain": [
       "<rdkit.ML.Descriptors.MoleculeDescriptors.MolecularDescriptorCalculator at 0x1633f6d90>"
      ]
     },
     "execution_count": 21,
     "metadata": {},
     "output_type": "execute_result"
    }
   ],
   "source": [
    "calc"
   ]
  },
  {
   "cell_type": "code",
   "execution_count": 8,
   "id": "f6083793",
   "metadata": {},
   "outputs": [
    {
     "ename": "AttributeError",
     "evalue": "module 'rdkit.Chem' has no attribute 'rdMolDescriptors'",
     "output_type": "error",
     "traceback": [
      "\u001b[0;31m---------------------------------------------------------------------------\u001b[0m",
      "\u001b[0;31mAttributeError\u001b[0m                            Traceback (most recent call last)",
      "\u001b[0;32m/var/folders/vh/6xwz5w1135g392ymh1cd_cqc0000gn/T/ipykernel_48665/4110174382.py\u001b[0m in \u001b[0;36m<module>\u001b[0;34m\u001b[0m\n\u001b[0;32m----> 1\u001b[0;31m \u001b[0mlist\u001b[0m\u001b[0;34m(\u001b[0m\u001b[0mChem\u001b[0m\u001b[0;34m.\u001b[0m\u001b[0mrdMolDescriptors\u001b[0m\u001b[0;34m.\u001b[0m\u001b[0mProperties\u001b[0m\u001b[0;34m.\u001b[0m\u001b[0mGetAvailableProperties\u001b[0m\u001b[0;34m(\u001b[0m\u001b[0;34m)\u001b[0m\u001b[0;34m)\u001b[0m\u001b[0;34m\u001b[0m\u001b[0;34m\u001b[0m\u001b[0m\n\u001b[0m",
      "\u001b[0;31mAttributeError\u001b[0m: module 'rdkit.Chem' has no attribute 'rdMolDescriptors'"
     ]
    }
   ],
   "source": [
    "list(Chem.rdMolDescriptors.Properties.GetAvailableProperties())"
   ]
  },
  {
   "cell_type": "code",
   "execution_count": null,
   "id": "9bf8dbb5",
   "metadata": {},
   "outputs": [],
   "source": [
    "def smi_to_descriptors(smile):\n",
    "    mol = Chem.MolFromSmiles(smile)\n",
    "    descriptors = []\n",
    "    if mol:\n",
    "        descriptors = np.array(get_descriptors.ComputeProperties(mol))\n",
    "    return descriptors"
   ]
  }
 ],
 "metadata": {
  "kernelspec": {
   "display_name": "Python [conda env:my-rdkit-env] *",
   "language": "python",
   "name": "conda-env-my-rdkit-env-py"
  },
  "language_info": {
   "codemirror_mode": {
    "name": "ipython",
    "version": 3
   },
   "file_extension": ".py",
   "mimetype": "text/x-python",
   "name": "python",
   "nbconvert_exporter": "python",
   "pygments_lexer": "ipython3",
   "version": "3.9.10"
  },
  "toc": {
   "base_numbering": 1,
   "nav_menu": {},
   "number_sections": true,
   "sideBar": true,
   "skip_h1_title": false,
   "title_cell": "Table of Contents",
   "title_sidebar": "Contents",
   "toc_cell": false,
   "toc_position": {},
   "toc_section_display": true,
   "toc_window_display": false
  }
 },
 "nbformat": 4,
 "nbformat_minor": 5
}
